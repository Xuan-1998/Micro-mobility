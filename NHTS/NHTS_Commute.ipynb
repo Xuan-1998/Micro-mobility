{
 "cells": [
  {
   "cell_type": "code",
   "execution_count": 1,
   "id": "c0d083bb",
   "metadata": {},
   "outputs": [],
   "source": [
    "import pandas as pd\n",
    "import numpy as np\n",
    "import scipy.ndimage\n",
    "pd.set_option('display.max_column', None)"
   ]
  },
  {
   "cell_type": "code",
   "execution_count": 2,
   "id": "71d98283",
   "metadata": {},
   "outputs": [],
   "source": [
    "trips_all = pd.read_csv('https://beam-outputs.s3.amazonaws.com/new_city/nhts/trippub.csv.gz',\n",
    "                    usecols=[0, 1, 2, 3, 4, 5, 6, 7, 17, 26, 28, 58, 59, 60, 61, 64, 69, 70, 71, 72, 73, 74, 84, 89, 93,\n",
    "                             102, 103])\n",
    "persons_all = pd.read_csv('https://beam-outputs.s3.amazonaws.com/new_city/nhts/perpub.csv.gz')\n",
    "# dictionaries for activity names and mode names\n",
    "actnames = {1:'Home',2:'Home',3:'Work',8:'Work',11:'Shopping',12:'Shopping',13:'Meal',15:'SocRec',16:'SocRec',17:'SocRec',19:'SocRec'}\n",
    "modenames = {1:'Walk',2:'Bike',3:'Car',4:'Car',5:'Car',6:'Car',7:'Car',8:'Car',9:'Car',10:'Bus',11:'Bus',13:'Bus',14:'Bus',15:'Rail',16:'Rail',17:'Ridehail',18:'Rental Car'}"
   ]
  },
  {
   "cell_type": "code",
   "execution_count": 3,
   "id": "2fd0ab90",
   "metadata": {},
   "outputs": [],
   "source": [
    "def label_commuter(row):\n",
    "    if (row['WHYTO'] == 'Home' and row['WHYFROM'] == 'Work') or (row['WHYTO'] == 'Work' and row['WHYFROM'] == 'Home'):\n",
    "        return 'Commuter'\n",
    "    return 'Non-Commuter'"
   ]
  },
  {
   "cell_type": "code",
   "execution_count": 4,
   "id": "53b0cd40",
   "metadata": {},
   "outputs": [],
   "source": [
    "def getActivities(trips):\n",
    "    commuter = trips['commuter'].values\n",
    "    startTimes = trips.startHour.values\n",
    "    endTimes = trips.endHour.values\n",
    "    durations = endTimes - startTimes\n",
    "    weights = trips.WTTRDFIN.values\n",
    "    return pd.DataFrame({'commuter': commuter, 'startTime':startTimes,'endTime':endTimes,'duration':durations,'weight':weights})"
   ]
  },
  {
   "cell_type": "code",
   "execution_count": 5,
   "id": "d250093f",
   "metadata": {},
   "outputs": [],
   "source": [
    "def getCommuters(activities):\n",
    "    activities.reset_index(inplace=True)\n",
    "    commuters = ['Non-Commuter', 'Commuter']\n",
    "    intercepts = dict()\n",
    "    nPeople = trips.drop_duplicates('UniquePID').WTTRDFIN.sum()\n",
    "    for commuter in commuters:\n",
    "        counts, bins = np.histogram(activities.loc[activities.commuter == commuter,'startTime'],range(26), weights = activities.loc[activities.commuter == commuter,'weight'])\n",
    "        counts = counts / nPeople\n",
    "        counts[counts < 0.015] = 0.0\n",
    "        intercepts[commuter] = counts\n",
    "    df = pd.DataFrame(intercepts, columns=commuters)\n",
    "    df.index.name = 'Hour'\n",
    "    return df"
   ]
  },
  {
   "cell_type": "code",
   "execution_count": 8,
   "id": "5072bc32",
   "metadata": {},
   "outputs": [],
   "source": [
    "for cbsa in ['12420','41860']:\n",
    "    trips = trips_all.loc[(trips_all['HH_CBSA'] == cbsa) , :]\n",
    "    \n",
    "    trips.replace({'WHYTO' : actnames, 'WHYFROM' : actnames}, inplace=True)\n",
    "    # TDWKND 2 means not on weekend\n",
    "    # TRPTRANS is Transportation mode used on trip (as reported by respondent), 19 = Taxicab\n",
    "    valid = (trips.TRPMILES > 0) & (trips.TDWKND == 2) & (trips.TRPTRANS != 19) & (trips.ENDTIME > trips.STRTTIME)\n",
    "\n",
    "    trips = trips.loc[valid, :]\n",
    "    trips['UniquePID'] = trips.HOUSEID * 100 + trips.PERSONID\n",
    "    trips['startHour'] = np.floor(trips.STRTTIME / 100) + np.mod(trips.STRTTIME, 100) / 60\n",
    "    trips['endHour'] = np.floor(trips.ENDTIME / 100) + np.mod(trips.ENDTIME, 100) / 60\n",
    "    trips['toWork'] = (trips.WHYTO == 3) | (trips.WHYTO == 4)\n",
    "    trips['fromWork'] = (trips.WHYFROM == 3) | (trips.WHYFROM == 4)\n",
    "    trips['fromHome'] = (trips.WHYFROM == 1)\n",
    "    trips['toHome'] = (trips.WHYTO == 1)\n",
    "    trips['commuter'] = trips.apply(lambda row: label_commuter(row), axis=1)\n",
    "    out = trips.groupby('UniquePID').apply(getActivities)\n",
    "    out.reset_index(inplace=True)\n",
    "    \n",
    "    out = out[out['startTime'] >= 0]\n",
    "    intercepts = getCommuters(out)\n",
    "    intercepts.to_csv('outputs/commuters_intercepts-' + cbsa + '.csv')"
   ]
  },
  {
   "cell_type": "code",
   "execution_count": null,
   "id": "c03c1196",
   "metadata": {},
   "outputs": [],
   "source": []
  }
 ],
 "metadata": {
  "kernelspec": {
   "display_name": "Python 3 (ipykernel)",
   "language": "python",
   "name": "python3"
  },
  "language_info": {
   "codemirror_mode": {
    "name": "ipython",
    "version": 3
   },
   "file_extension": ".py",
   "mimetype": "text/x-python",
   "name": "python",
   "nbconvert_exporter": "python",
   "pygments_lexer": "ipython3",
   "version": "3.9.9"
  }
 },
 "nbformat": 4,
 "nbformat_minor": 5
}
